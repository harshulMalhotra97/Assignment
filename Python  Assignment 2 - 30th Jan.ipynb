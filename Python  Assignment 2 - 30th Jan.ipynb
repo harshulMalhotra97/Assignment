{
 "cells": [
  {
   "cell_type": "code",
   "execution_count": 4,
   "id": "d99c0818",
   "metadata": {},
   "outputs": [
    {
     "name": "stdout",
     "output_type": "stream",
     "text": [
      "Please enter your marks scored in percent: 90\n",
      "Your grade is B\n"
     ]
    }
   ],
   "source": [
    "# 1. Program to accept percentage from user and display grade according the to the following criteria.\n",
    "\n",
    "marks_percent = int(input('Please enter your marks scored in percent: '))\n",
    "\n",
    "if marks_percent < 60:\n",
    "    print(\"Your grade is D\")\n",
    "    \n",
    "elif marks_percent >= 60 and marks_percent <= 80:\n",
    "    print(\"Your grade is C\")\n",
    "    \n",
    "elif marks_percent > 80 and marks_percent <= 90:\n",
    "    print(\"Your grade is B\")\n",
    "    \n",
    "else:\n",
    "    print(\"Your grade is A\")"
   ]
  },
  {
   "cell_type": "code",
   "execution_count": 5,
   "id": "cd616f34",
   "metadata": {},
   "outputs": [
    {
     "name": "stdout",
     "output_type": "stream",
     "text": [
      "Please enter the cost price of your Bike(in Rs): 100001\n",
      "Road tax to be paid by you is: 15%\n"
     ]
    }
   ],
   "source": [
    "# 2. Program to accept cost price of bike and display road tax to be paid according to the criteria.\n",
    "\n",
    "bike_cost = int(input(\"Please enter the cost price of your Bike(in Rs): \"))\n",
    "\n",
    "if bike_cost <= 50000:\n",
    "    print('Road tax to be paid by you is: 5%')\n",
    "    \n",
    "elif bike_cost > 50000 and bike_cost <= 100000:\n",
    "    print('Road tax to be paid by you is: 10%')\n",
    "    \n",
    "else : \n",
    "    print('Road tax to be paid by you is: 15%')"
   ]
  },
  {
   "cell_type": "code",
   "execution_count": 6,
   "id": "bf96e0bd",
   "metadata": {},
   "outputs": [
    {
     "name": "stdout",
     "output_type": "stream",
     "text": [
      "Please enter any one city from \"Delhi\", \"Agra\" and \"Jaipur\": Agra\n",
      "Famous monument of \"Agra\" is: Taj Mahal\n"
     ]
    }
   ],
   "source": [
    "# 3. Program - Accept any city from the user and show monuments of that city.\n",
    "\n",
    "city_name = input('Please enter any one city from \"Delhi\", \"Agra\" and \"Jaipur\": ')\n",
    "\n",
    "if city_name == \"Delhi\":\n",
    "    print('Famous monument of \"Delhi\" is: Red Fort')\n",
    "    \n",
    "elif city_name == \"Agra\":\n",
    "    print('Famous monument of \"Agra\" is: Taj Mahal')\n",
    "    \n",
    "elif city_name == \"Jaipur\":\n",
    "    print('Famous monument of \"Jaipur\" is: Jal Mahal')"
   ]
  },
  {
   "cell_type": "code",
   "execution_count": 17,
   "id": "16540b2b",
   "metadata": {},
   "outputs": [
    {
     "name": "stdout",
     "output_type": "stream",
     "text": [
      "Please enter a number: 23\n",
      "Number of times 23 can be divided by 3 before it is less than or equal to 10 is: 4\n"
     ]
    }
   ],
   "source": [
    "# 4. Check how many times a given number can be divided by 3 before it is less than or equal to 10.\n",
    "\n",
    "n = int(input('Please enter a number: '))\n",
    "number = n \n",
    "count = 0 \n",
    "\n",
    "while n >= 10:\n",
    "    if n % 3 == 0:\n",
    "        count = count + 1\n",
    "    n = n-1\n",
    "        \n",
    "print(f'Number of times {number} can be divided by 3 before it is less than or equal to 10 is: {count}')\n",
    "    "
   ]
  },
  {
   "cell_type": "code",
   "execution_count": 18,
   "id": "984d40e9",
   "metadata": {},
   "outputs": [
    {
     "name": "stdout",
     "output_type": "stream",
     "text": [
      "0\n",
      "1\n",
      "2\n",
      "3\n",
      "4\n"
     ]
    }
   ],
   "source": [
    "# 5. Why and when to use a while loop in python give a detailed description with example.\n",
    "'''While loop-- While loop repeats a code of block as long as an expression is true.\n",
    "'''\n",
    "# example - \n",
    "i = 0 \n",
    "\n",
    "while i < 5:\n",
    "    print(i)\n",
    "    i += 1"
   ]
  },
  {
   "cell_type": "code",
   "execution_count": 12,
   "id": "1bd2e150",
   "metadata": {},
   "outputs": [
    {
     "name": "stdout",
     "output_type": "stream",
     "text": [
      "****\n",
      "****\n",
      "****\n",
      "****\n"
     ]
    }
   ],
   "source": [
    "# 6. Use nested while loop to print 3 different pattern.\n",
    "'''Pattern-1 ****\n",
    "             ****\n",
    "             ****\n",
    "             ****\n",
    "'''\n",
    "\n",
    "i = 1 \n",
    "\n",
    "while i <= 4:\n",
    "    j = 1\n",
    "    while j <= 4: \n",
    "        print('*', end = \"\")\n",
    "        j = j + 1\n",
    "        \n",
    "    print()\n",
    "    i = i + 1\n",
    "\n",
    "\n"
   ]
  },
  {
   "cell_type": "code",
   "execution_count": 16,
   "id": "b7448723",
   "metadata": {},
   "outputs": [
    {
     "name": "stdout",
     "output_type": "stream",
     "text": [
      "*\n",
      "**\n",
      "***\n",
      "****\n",
      "*****\n"
     ]
    }
   ],
   "source": [
    "'''Pattern-2 *\n",
    "             **\n",
    "             ***\n",
    "             ****\n",
    "             *****\n",
    "'''\n",
    "i = 1\n",
    "while i <= 5:\n",
    "    j = 1\n",
    "    while j <= i:\n",
    "        print('*', end = '')\n",
    "        j = j + 1\n",
    "    print()\n",
    "    i += 1"
   ]
  },
  {
   "cell_type": "code",
   "execution_count": 17,
   "id": "6c7a0990",
   "metadata": {},
   "outputs": [
    {
     "name": "stdout",
     "output_type": "stream",
     "text": [
      "*****\n",
      "****\n",
      "***\n",
      "**\n",
      "*\n"
     ]
    }
   ],
   "source": [
    "'''Pattern- 3 *****\n",
    "              ****\n",
    "              ***\n",
    "              **\n",
    "              *\n",
    "'''\n",
    "\n",
    "i = 1\n",
    "while i <= 5:\n",
    "    j = 5\n",
    "    while j >= i:\n",
    "        print('*',end = '')\n",
    "        j = j - 1\n",
    "        \n",
    "    print()\n",
    "    i = i + 1"
   ]
  },
  {
   "cell_type": "code",
   "execution_count": 20,
   "id": "3aac9649",
   "metadata": {},
   "outputs": [
    {
     "name": "stdout",
     "output_type": "stream",
     "text": [
      "10\n",
      "9\n",
      "8\n",
      "7\n",
      "6\n",
      "5\n",
      "4\n",
      "3\n",
      "2\n",
      "1\n"
     ]
    }
   ],
   "source": [
    "# 7. Reverse a while loop to display numbers from 10 to 1\n",
    "n = 10 \n",
    "i = 1\n",
    "\n",
    "while n >= i:\n",
    "    print(n)\n",
    "    n -= 1"
   ]
  },
  {
   "cell_type": "code",
   "execution_count": 21,
   "id": "2637c8ea",
   "metadata": {},
   "outputs": [
    {
     "name": "stdout",
     "output_type": "stream",
     "text": [
      "10\n",
      "9\n",
      "8\n",
      "7\n",
      "6\n",
      "5\n",
      "4\n",
      "3\n",
      "2\n",
      "1\n"
     ]
    }
   ],
   "source": [
    "#  8. Reverse a while loop to display numbers from 10 to 1\n",
    "n = 10 \n",
    "i = 1\n",
    "\n",
    "while n >= i:\n",
    "    print(n)\n",
    "    n -= 1"
   ]
  },
  {
   "cell_type": "code",
   "execution_count": null,
   "id": "d7c5c618",
   "metadata": {},
   "outputs": [],
   "source": []
  }
 ],
 "metadata": {
  "kernelspec": {
   "display_name": "Python 3 (ipykernel)",
   "language": "python",
   "name": "python3"
  },
  "language_info": {
   "codemirror_mode": {
    "name": "ipython",
    "version": 3
   },
   "file_extension": ".py",
   "mimetype": "text/x-python",
   "name": "python",
   "nbconvert_exporter": "python",
   "pygments_lexer": "ipython3",
   "version": "3.9.13"
  }
 },
 "nbformat": 4,
 "nbformat_minor": 5
}
